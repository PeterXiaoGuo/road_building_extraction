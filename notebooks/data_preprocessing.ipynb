{
 "cells": [
  {
   "cell_type": "code",
   "execution_count": 1,
   "metadata": {},
   "outputs": [
    {
     "name": "stdout",
     "output_type": "stream",
     "text": [
      "/Users/jwen/Projects/road_building_extraction\n"
     ]
    }
   ],
   "source": [
    "cd .."
   ]
  },
  {
   "cell_type": "code",
   "execution_count": 2,
   "metadata": {},
   "outputs": [
    {
     "name": "stdout",
     "output_type": "stream",
     "text": [
      "/Users/jwen/Projects/road_building_extraction/src\n"
     ]
    }
   ],
   "source": [
    "cd src"
   ]
  },
  {
   "cell_type": "code",
   "execution_count": 3,
   "metadata": {},
   "outputs": [],
   "source": [
    "import sys\n",
    "import warnings\n",
    "warnings.simplefilter(\"ignore\", (UserWarning, FutureWarning))\n",
    "\n",
    "from matplotlib import pyplot as plt\n",
    "from torch.utils.data import DataLoader\n",
    "from skimage import io\n",
    "from PIL import Image\n",
    "from tqdm import tqdm\n",
    "from torchvision import transforms\n",
    "\n",
    "import pandas as pd\n",
    "import tensorflow as tf\n",
    "import glob\n",
    "import numpy as np\n",
    "import random\n",
    "import torch\n",
    "\n",
    "from utils import data_utils\n",
    "from utils import augmentation as aug\n",
    "\n",
    "%matplotlib inline"
   ]
  },
  {
   "cell_type": "markdown",
   "metadata": {},
   "source": [
    "# Data directory structure\n",
    "We have pulled the data that we need, but the structure of the data will be difficult to deal with when we are training and testing. Create a .csv with the file paths to the images and the subdirectories"
   ]
  },
  {
   "cell_type": "code",
   "execution_count": 107,
   "metadata": {},
   "outputs": [],
   "source": [
    "# one csv for each of the main datasets\n",
    "mass_buildings = glob.glob('/Users/jwen/Projects/road_building_extraction/data/mass_buildings/**/*.tiff', recursive=True)\n",
    "mass_roads = glob.glob('/Users/jwen/Projects/road_building_extraction/data/mass_roads/**/*.tiff', recursive=True)\n",
    "mass_roads_crop = glob.glob('/Users/jwen/Projects/road_building_extraction/data/mass_roads_crop/**/*.tiff', recursive=True)\n",
    "\n",
    "mass_buildings_df = pd.DataFrame(mass_buildings)\n",
    "mass_roads_df = pd.DataFrame(mass_roads)\n",
    "mass_roads_crop_df = pd.DataFrame(mass_roads_crop)\n",
    "\n",
    "mass_buildings_df.rename(columns={0:'file_path'}, inplace=True)\n",
    "mass_roads_df.rename(columns={0:'file_path'}, inplace=True)\n",
    "mass_roads_crop_df.rename(columns={0:'file_path'}, inplace=True)"
   ]
  },
  {
   "cell_type": "code",
   "execution_count": 108,
   "metadata": {},
   "outputs": [],
   "source": [
    "# create new column with the split \n",
    "mass_buildings_df['sat_img_path'] = mass_buildings_df['file_path'].apply(lambda x: x.split('/')[-1])\n",
    "mass_buildings_df['map_img_path'] = mass_buildings_df['file_path'].apply(lambda x: x.split('/')[-1][:-1])\n",
    "mass_buildings_df['sat_map'] = mass_buildings_df['file_path'].apply(lambda x: x.split('/')[-2])\n",
    "mass_buildings_df['train_valid_test'] = mass_buildings_df['file_path'].apply(lambda x: x.split('/')[-3])\n",
    "\n",
    "mass_roads_df['sat_img_path'] = mass_roads_df['file_path'].apply(lambda x: x.split('/')[-1])\n",
    "mass_roads_df['map_img_path'] = mass_roads_df['file_path'].apply(lambda x: x.split('/')[-1][:-1])\n",
    "mass_roads_df['sat_map'] = mass_roads_df['file_path'].apply(lambda x: x.split('/')[-2])\n",
    "mass_roads_df['train_valid_test'] = mass_roads_df['file_path'].apply(lambda x: x.split('/')[-3])\n",
    "\n",
    "mass_roads_crop_df['sat_img_path'] = mass_roads_crop_df['file_path'].apply(lambda x: x.split('/')[-1])\n",
    "mass_roads_crop_df['map_img_path'] = mass_roads_crop_df['file_path'].apply(lambda x: x.split('/')[-1][:-1])\n",
    "mass_roads_crop_df['sat_map'] = mass_roads_crop_df['file_path'].apply(lambda x: x.split('/')[-2])\n",
    "mass_roads_crop_df['train_valid_test'] = mass_roads_crop_df['file_path'].apply(lambda x: x.split('/')[-3])"
   ]
  },
  {
   "cell_type": "code",
   "execution_count": 112,
   "metadata": {},
   "outputs": [],
   "source": [
    "# create csv file with the files paths to the data\n",
    "# mass_buildings_df.to_csv('/Users/jwen/Projects/road_building_extraction/data/mass_buildings/mass_buildings.csv', index=False)\n",
    "# mass_roads_df.to_csv('/Users/jwen/Projects/road_building_extraction/data/mass_roads/mass_roads.csv', index=False)\n",
    "# mass_roads_crop_df.to_csv('/Users/jwen/Projects/road_building_extraction/data/mass_roads_crop/mass_roads_crop.csv', index=False)"
   ]
  },
  {
   "cell_type": "code",
   "execution_count": 113,
   "metadata": {},
   "outputs": [
    {
     "data": {
      "text/plain": [
       "13860"
      ]
     },
     "execution_count": 113,
     "metadata": {},
     "output_type": "execute_result"
    }
   ],
   "source": [
    "# total observations for new cropped dataset\n",
    "len(mass_roads_crop_df)"
   ]
  },
  {
   "cell_type": "code",
   "execution_count": 114,
   "metadata": {},
   "outputs": [
    {
     "data": {
      "text/html": [
       "<div>\n",
       "<style scoped>\n",
       "    .dataframe tbody tr th:only-of-type {\n",
       "        vertical-align: middle;\n",
       "    }\n",
       "\n",
       "    .dataframe tbody tr th {\n",
       "        vertical-align: top;\n",
       "    }\n",
       "\n",
       "    .dataframe thead th {\n",
       "        text-align: right;\n",
       "    }\n",
       "</style>\n",
       "<table border=\"1\" class=\"dataframe\">\n",
       "  <thead>\n",
       "    <tr style=\"text-align: right;\">\n",
       "      <th></th>\n",
       "      <th>file_path</th>\n",
       "      <th>sat_img_path</th>\n",
       "      <th>map_img_path</th>\n",
       "      <th>sat_map</th>\n",
       "      <th>train_valid_test</th>\n",
       "    </tr>\n",
       "  </thead>\n",
       "  <tbody>\n",
       "    <tr>\n",
       "      <th>0</th>\n",
       "      <td>/Users/jwen/Projects/road_building_extraction/...</td>\n",
       "      <td>10_10228690_15.tiff</td>\n",
       "      <td>10_10228690_15.tif</td>\n",
       "      <td>sat</td>\n",
       "      <td>valid</td>\n",
       "    </tr>\n",
       "    <tr>\n",
       "      <th>1</th>\n",
       "      <td>/Users/jwen/Projects/road_building_extraction/...</td>\n",
       "      <td>12_24929245_15.tiff</td>\n",
       "      <td>12_24929245_15.tif</td>\n",
       "      <td>sat</td>\n",
       "      <td>valid</td>\n",
       "    </tr>\n",
       "    <tr>\n",
       "      <th>2</th>\n",
       "      <td>/Users/jwen/Projects/road_building_extraction/...</td>\n",
       "      <td>0_23128930_15.tiff</td>\n",
       "      <td>0_23128930_15.tif</td>\n",
       "      <td>sat</td>\n",
       "      <td>valid</td>\n",
       "    </tr>\n",
       "    <tr>\n",
       "      <th>3</th>\n",
       "      <td>/Users/jwen/Projects/road_building_extraction/...</td>\n",
       "      <td>4_10228690_15.tiff</td>\n",
       "      <td>4_10228690_15.tif</td>\n",
       "      <td>sat</td>\n",
       "      <td>valid</td>\n",
       "    </tr>\n",
       "    <tr>\n",
       "      <th>4</th>\n",
       "      <td>/Users/jwen/Projects/road_building_extraction/...</td>\n",
       "      <td>6_24929245_15.tiff</td>\n",
       "      <td>6_24929245_15.tif</td>\n",
       "      <td>sat</td>\n",
       "      <td>valid</td>\n",
       "    </tr>\n",
       "  </tbody>\n",
       "</table>\n",
       "</div>"
      ],
      "text/plain": [
       "                                           file_path         sat_img_path  \\\n",
       "0  /Users/jwen/Projects/road_building_extraction/...  10_10228690_15.tiff   \n",
       "1  /Users/jwen/Projects/road_building_extraction/...  12_24929245_15.tiff   \n",
       "2  /Users/jwen/Projects/road_building_extraction/...   0_23128930_15.tiff   \n",
       "3  /Users/jwen/Projects/road_building_extraction/...   4_10228690_15.tiff   \n",
       "4  /Users/jwen/Projects/road_building_extraction/...   6_24929245_15.tiff   \n",
       "\n",
       "         map_img_path sat_map train_valid_test  \n",
       "0  10_10228690_15.tif     sat            valid  \n",
       "1  12_24929245_15.tif     sat            valid  \n",
       "2   0_23128930_15.tif     sat            valid  \n",
       "3   4_10228690_15.tif     sat            valid  \n",
       "4   6_24929245_15.tif     sat            valid  "
      ]
     },
     "execution_count": 114,
     "metadata": {},
     "output_type": "execute_result"
    }
   ],
   "source": [
    "mass_roads_crop_df.head()"
   ]
  },
  {
   "cell_type": "markdown",
   "metadata": {},
   "source": [
    "# Testing Data Loading"
   ]
  },
  {
   "cell_type": "code",
   "execution_count": 7,
   "metadata": {},
   "outputs": [],
   "source": [
    "# load data with transformatons\n",
    "# mass_dataset_train = MassRoadBuildingDataset('/Users/jwen/Projects/road_building_extraction/data/mass_roads/mass_roads.csv','mass_roads','train',\n",
    "#                                        transform=transforms.Compose([RescaleTarget(268), RandomCropTarget(238), ToTensorTarget()]))\n",
    "\n",
    "\n",
    "# mass_dataset_val = MassRoadBuildingDataset('/Users/jwen/Projects/road_building_extraction/data/mass_roads/mass_roads.csv','mass_roads','valid',\n",
    "#                                        transform=transforms.Compose([RescaleTarget(268), ToTensorTarget()]))\n",
    "\n",
    "data_path = '/Users/jwen/Projects/road_building_extraction/data/mass_roads_crop/mass_roads_crop.csv'\n",
    "data_set = 'mass_roads_crop'\n",
    "\n",
    "mass_dataset_train = data_utils.MassRoadBuildingDataset(data_path, data_set, 'train',transform=transforms.Compose([aug.ToTensorTarget()]))\n",
    "\n",
    "mass_dataset_val = data_utils.MassRoadBuildingDataset(data_path, data_set, 'valid')\n",
    "    \n",
    "# RandomRotationTarget(45,resize=True), NormalizeTarget(mean=[0.5, 0.5, 0.5], std=[0.5, 0.5, 0.5])"
   ]
  },
  {
   "cell_type": "code",
   "execution_count": 8,
   "metadata": {},
   "outputs": [],
   "source": [
    "dataloader = DataLoader(mass_dataset_train, batch_size=3, num_workers=4)\n",
    "data_batch = next(iter(dataloader))\n",
    "\n",
    "dataloader_valid = DataLoader(mass_dataset_val, batch_size=6, num_workers=4)\n",
    "data_batch_valid = next(iter(dataloader_valid))"
   ]
  },
  {
   "cell_type": "code",
   "execution_count": 184,
   "metadata": {},
   "outputs": [
    {
     "data": {
      "text/plain": [
       "\n",
       "( 0 ,.,.) = \n",
       "  0.2000  0.1216  0.1882  ...   0.5882  0.5647  0.5451\n",
       "  0.1490  0.1059  0.0980  ...   0.6431  0.6314  0.6196\n",
       "  0.0980  0.0784  0.0980  ...   0.6275  0.6549  0.6471\n",
       "           ...             ⋱             ...          \n",
       "  0.6980  0.5098  0.5216  ...   0.4078  0.4157  0.4039\n",
       "  0.4902  0.5608  0.4863  ...   0.4157  0.4000  0.3922\n",
       "  0.5020  0.4980  0.4549  ...   0.4196  0.3922  0.3804\n",
       "\n",
       "( 1 ,.,.) = \n",
       "  0.2392  0.1373  0.1882  ...   0.5804  0.5608  0.5451\n",
       "  0.1059  0.0863  0.0980  ...   0.6392  0.6235  0.6118\n",
       "  0.0980  0.0980  0.1137  ...   0.6235  0.6431  0.6431\n",
       "           ...             ⋱             ...          \n",
       "  0.7020  0.5098  0.5333  ...   0.4275  0.4314  0.4353\n",
       "  0.4980  0.5569  0.4863  ...   0.4314  0.4039  0.3843\n",
       "  0.5137  0.5137  0.4745  ...   0.4353  0.3922  0.3922\n",
       "\n",
       "( 2 ,.,.) = \n",
       "  0.1765  0.1059  0.1294  ...   0.5608  0.5373  0.5255\n",
       "  0.0980  0.0706  0.0667  ...   0.6118  0.5922  0.5765\n",
       "  0.0549  0.0745  0.0824  ...   0.5882  0.6000  0.6039\n",
       "           ...             ⋱             ...          \n",
       "  0.6588  0.5294  0.5216  ...   0.4196  0.4314  0.4078\n",
       "  0.5059  0.5412  0.5176  ...   0.4196  0.4078  0.4000\n",
       "  0.5137  0.5059  0.4706  ...   0.4235  0.3686  0.3961\n",
       "[torch.FloatTensor of size 3x256x256]"
      ]
     },
     "execution_count": 184,
     "metadata": {},
     "output_type": "execute_result"
    }
   ],
   "source": [
    "transforms.functional.to_tensor(mass_dataset_train[0]['sat_img'])"
   ]
  },
  {
   "cell_type": "code",
   "execution_count": null,
   "metadata": {},
   "outputs": [],
   "source": []
  }
 ],
 "metadata": {
  "kernelspec": {
   "display_name": "Python 3",
   "language": "python",
   "name": "python3"
  },
  "language_info": {
   "codemirror_mode": {
    "name": "ipython",
    "version": 3
   },
   "file_extension": ".py",
   "mimetype": "text/x-python",
   "name": "python",
   "nbconvert_exporter": "python",
   "pygments_lexer": "ipython3",
   "version": "3.6.4"
  }
 },
 "nbformat": 4,
 "nbformat_minor": 2
}
